{
 "cells": [
  {
   "cell_type": "code",
   "execution_count": 1,
   "id": "standing-marijuana",
   "metadata": {},
   "outputs": [
    {
     "name": "stdout",
     "output_type": "stream",
     "text": [
      "     a    b\n",
      "0  a_1  b_1\n",
      "1  a_2  b_2\n",
      "2  a_3  b_3\n",
      "     a    c\n",
      "0  a_1  c_1\n",
      "1  a_2  c_2\n",
      "2  a_4  c_4\n"
     ]
    }
   ],
   "source": [
    "import pandas as pd\n",
    "\n",
    "df_ab = pd.DataFrame({'a': ['a_1', 'a_2', 'a_3'], 'b': ['b_1', 'b_2', 'b_3']})\n",
    "df_ac = pd.DataFrame({'a': ['a_1', 'a_2', 'a_4'], 'c': ['c_1', 'c_2', 'c_4']})\n",
    "\n",
    "print(df_ab)\n",
    "#      a    b\n",
    "# 0  a_1  b_1\n",
    "# 1  a_2  b_2\n",
    "# 2  a_3  b_3\n",
    "\n",
    "print(df_ac)\n",
    "#      a    c\n",
    "# 0  a_1  c_1\n",
    "# 1  a_2  c_2\n",
    "# 2  a_4  c_4\n"
   ]
  },
  {
   "cell_type": "code",
   "execution_count": 2,
   "id": "binding-tucson",
   "metadata": {},
   "outputs": [
    {
     "name": "stdout",
     "output_type": "stream",
     "text": [
      "     a    b    c\n",
      "0  a_1  b_1  c_1\n",
      "1  a_2  b_2  c_2\n"
     ]
    }
   ],
   "source": [
    "print(pd.merge(df_ab, df_ac))"
   ]
  },
  {
   "cell_type": "code",
   "execution_count": 3,
   "id": "supreme-belle",
   "metadata": {},
   "outputs": [
    {
     "name": "stdout",
     "output_type": "stream",
     "text": [
      "     a    b    c\n",
      "0  a_1  b_1  c_1\n",
      "1  a_2  b_2  c_2\n"
     ]
    }
   ],
   "source": [
    "print(pd.merge(df_ab, df_ac, on='a'))\n",
    "#      a    b    c\n",
    "# 0  a_1  b_1  c_1\n",
    "# 1  a_2  b_2  c_2\n"
   ]
  },
  {
   "cell_type": "code",
   "execution_count": null,
   "id": "worse-clinic",
   "metadata": {},
   "outputs": [],
   "source": []
  }
 ],
 "metadata": {
  "kernelspec": {
   "display_name": "Python 3 (ipykernel)",
   "language": "python",
   "name": "python3"
  },
  "language_info": {
   "codemirror_mode": {
    "name": "ipython",
    "version": 3
   },
   "file_extension": ".py",
   "mimetype": "text/x-python",
   "name": "python",
   "nbconvert_exporter": "python",
   "pygments_lexer": "ipython3",
   "version": "3.8.13"
  }
 },
 "nbformat": 4,
 "nbformat_minor": 5
}
