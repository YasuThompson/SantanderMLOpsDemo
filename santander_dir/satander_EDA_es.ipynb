{
 "cells": [
  {
   "cell_type": "code",
   "execution_count": 8,
   "id": "hairy-observation",
   "metadata": {},
   "outputs": [],
   "source": [
    "import pandas as pd\n",
    "import numpy as np\n",
    "#import xgboost as xgb\n",
    "\n",
    "np.random.seed(2018)\n",
    "\n",
    "# 데이터를 불러온다.\n",
    "trn = pd.read_csv('./train_ver2.csv', low_memory=False)\n",
    "tst = pd.read_csv('./test_ver2.csv', low_memory=False)\n",
    "\n",
    "## 데이터 전처리 ##\n",
    "\n"
   ]
  },
  {
   "cell_type": "code",
   "execution_count": 9,
   "id": "identified-lounge",
   "metadata": {},
   "outputs": [],
   "source": [
    "# 제품 변수를 별도로 저장해 놓는다.\n",
    "prods = trn.columns[24:].tolist()\n",
    "\n"
   ]
  },
  {
   "cell_type": "code",
   "execution_count": 10,
   "id": "protective-criminal",
   "metadata": {},
   "outputs": [],
   "source": [
    "# 제품 변수 결측값을 미리 0으로 대체한다.\n",
    "trn[prods] = trn[prods].fillna(0.0).astype(np.int8)"
   ]
  },
  {
   "cell_type": "code",
   "execution_count": 11,
   "id": "terminal-flooring",
   "metadata": {},
   "outputs": [],
   "source": [
    "# 24개 제품 중 하나도 보유하지 않는 고객 데이터를 제거한다.\n",
    "no_product = trn[prods].sum(axis=1) == 0\n",
    "trn = trn[~no_product]"
   ]
  },
  {
   "cell_type": "code",
   "execution_count": 12,
   "id": "accomplished-translation",
   "metadata": {},
   "outputs": [],
   "source": [
    "# 훈련 데이터와 테스트 데이터를 통합한다. 테스트 데이터에 없는 제품 변수는 0으로 채운다.\n",
    "for col in trn.columns[24:]:\n",
    "    tst[col] = 0\n",
    "df = pd.concat([trn, tst], axis=0)"
   ]
  },
  {
   "cell_type": "code",
   "execution_count": 13,
   "id": "stone-architect",
   "metadata": {},
   "outputs": [],
   "source": [
    "# 학습에 사용할 변수를 담는 list이다.\n",
    "features = []"
   ]
  },
  {
   "cell_type": "code",
   "execution_count": 14,
   "id": "talented-capability",
   "metadata": {},
   "outputs": [],
   "source": [
    "# 범주형 변수를 .factorize() 함수를 통해 label encoding한다.\n",
    "categorical_cols = ['ind_empleado', 'pais_residencia', 'sexo', 'tiprel_1mes', 'indresi', 'indext', 'conyuemp', 'canal_entrada', 'indfall', 'tipodom', 'nomprov', 'segmento']\n",
    "for col in categorical_cols:\n",
    "    df[col], _ = df[col].factorize(na_sentinel=-99)\n",
    "features += categorical_cols\n"
   ]
  },
  {
   "cell_type": "code",
   "execution_count": null,
   "id": "promotional-processor",
   "metadata": {},
   "outputs": [],
   "source": []
  }
 ],
 "metadata": {
  "kernelspec": {
   "display_name": "Python 3 (ipykernel)",
   "language": "python",
   "name": "python3"
  },
  "language_info": {
   "codemirror_mode": {
    "name": "ipython",
    "version": 3
   },
   "file_extension": ".py",
   "mimetype": "text/x-python",
   "name": "python",
   "nbconvert_exporter": "python",
   "pygments_lexer": "ipython3",
   "version": "3.8.13"
  }
 },
 "nbformat": 4,
 "nbformat_minor": 5
}
