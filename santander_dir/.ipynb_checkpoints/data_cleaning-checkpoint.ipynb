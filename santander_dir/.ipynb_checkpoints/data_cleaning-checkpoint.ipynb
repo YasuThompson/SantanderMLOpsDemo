{
 "cells": [
  {
   "cell_type": "code",
   "execution_count": 1,
   "id": "expressed-dream",
   "metadata": {},
   "outputs": [],
   "source": [
    "import numpy as np \n",
    "import matplotlib.pyplot as plt \n",
    "import pandas as pd\n",
    "import json"
   ]
  },
  {
   "cell_type": "code",
   "execution_count": 2,
   "id": "presidential-tobago",
   "metadata": {},
   "outputs": [],
   "source": [
    "train_df = pd.read_csv(\"./train_ver2.csv\", low_memory=False)\n",
    "test_df = pd.read_csv(\"./test_ver2.csv\", low_memory=False)"
   ]
  },
  {
   "cell_type": "code",
   "execution_count": 3,
   "id": "facial-suspect",
   "metadata": {},
   "outputs": [],
   "source": [
    "\n",
    "# j_w=open('./es_en_column_map.json' ,\"w\")\n",
    "# json.dump(column_map_dict, j_w,indent=2)\n",
    "# j_w.close()\n"
   ]
  },
  {
   "cell_type": "code",
   "execution_count": 4,
   "id": "inclusive-preview",
   "metadata": {},
   "outputs": [],
   "source": [
    "j_r=open('./es_en_column_map.json',\"r\")\n",
    "column_map_dict=json.load(j_r)\n",
    "j_r.close()\n",
    "column_map_dict_swap = {v: k for k, v in column_map_dict.items()}"
   ]
  },
  {
   "cell_type": "code",
   "execution_count": 5,
   "id": "surprising-advocacy",
   "metadata": {},
   "outputs": [],
   "source": [
    "train_df.rename(columns=column_map_dict, inplace=True)\n",
    "test_df.rename(columns=column_map_dict, inplace=True)"
   ]
  },
  {
   "cell_type": "code",
   "execution_count": 6,
   "id": "rolled-estate",
   "metadata": {},
   "outputs": [],
   "source": [
    "prods = train_df.columns[24:].tolist()\n"
   ]
  },
  {
   "cell_type": "code",
   "execution_count": 7,
   "id": "configured-proxy",
   "metadata": {
    "scrolled": true
   },
   "outputs": [
    {
     "name": "stdout",
     "output_type": "stream",
     "text": [
      "[0 1]\n",
      "[0 1]\n",
      "[1 0]\n",
      "[0 1]\n",
      "[0 1]\n",
      "[0 1]\n",
      "[0 1]\n",
      "[0 1]\n",
      "[0 1]\n",
      "[0 1]\n",
      "[0 1]\n",
      "[0 1]\n",
      "[0 1]\n",
      "[0 1]\n",
      "[0 1]\n",
      "[0 1]\n",
      "[0 1]\n",
      "[0 1]\n",
      "[0 1]\n",
      "[0 1]\n",
      "[0 1]\n",
      "[ 0.  1. nan]\n",
      "[ 0.  1. nan]\n",
      "[0 1]\n"
     ]
    }
   ],
   "source": [
    "for col in prods:\n",
    "    print(train_df[col].unique())"
   ]
  },
  {
   "cell_type": "code",
   "execution_count": 8,
   "id": "celtic-argument",
   "metadata": {},
   "outputs": [],
   "source": [
    "prods = train_df.columns[24:].tolist()\n",
    "train_df[prods] = train_df[prods].fillna(0.0).astype(np.int8)\n",
    "#no_product = train_df[prods].sum(axis=1) == 0\n",
    "#train_df = train_df[~no_product]"
   ]
  },
  {
   "cell_type": "code",
   "execution_count": 9,
   "id": "grand-dispatch",
   "metadata": {
    "scrolled": true
   },
   "outputs": [
    {
     "name": "stdout",
     "output_type": "stream",
     "text": [
      "[0 1]\n",
      "[0 1]\n",
      "[1 0]\n",
      "[0 1]\n",
      "[0 1]\n",
      "[0 1]\n",
      "[0 1]\n",
      "[0 1]\n",
      "[0 1]\n",
      "[0 1]\n",
      "[0 1]\n",
      "[0 1]\n",
      "[0 1]\n",
      "[0 1]\n",
      "[0 1]\n",
      "[0 1]\n",
      "[0 1]\n",
      "[0 1]\n",
      "[0 1]\n",
      "[0 1]\n",
      "[0 1]\n",
      "[0 1]\n",
      "[0 1]\n",
      "[0 1]\n"
     ]
    }
   ],
   "source": [
    "for col in prods:\n",
    "    print(train_df[col].unique())"
   ]
  },
  {
   "cell_type": "code",
   "execution_count": 10,
   "id": "initial-people",
   "metadata": {},
   "outputs": [],
   "source": [
    "#features = []\n",
    "categorical_cols = ['employee_index', 'country', 'sex', 'new_customer_index', 'primary_index', \n",
    "                             'customer_type', 'customer_relation_type', 'residence_index', 'foreigner_index', \n",
    "                             'spouse_index', 'channel', 'deceased_index', 'addres_type', 'province_code', \n",
    "                             'province_name', 'activity_index', 'segmentation']\n",
    "\n",
    "for col in categorical_cols:\n",
    "    train_df[col], _ = train_df[col].factorize(na_sentinel=-99)\n",
    "    test_df[col], _ = test_df[col].factorize(na_sentinel=-99)\n",
    "#features += categorical_cols    "
   ]
  },
  {
   "cell_type": "code",
   "execution_count": 11,
   "id": "active-metro",
   "metadata": {
    "scrolled": true
   },
   "outputs": [
    {
     "data": {
      "text/plain": [
       "date                        object\n",
       "customer_code                int64\n",
       "employee_index               int64\n",
       "country                      int64\n",
       "sex                          int64\n",
       "age                         object\n",
       "first_holder_date           object\n",
       "new_customer_index           int64\n",
       "customer_seniority          object\n",
       "primary_index                int64\n",
       "primary_last_date           object\n",
       "customer_type                int64\n",
       "customer_relation_type       int64\n",
       "residence_index              int64\n",
       "foreigner_index              int64\n",
       "spouse_index                 int64\n",
       "channel                      int64\n",
       "deceased_index               int64\n",
       "addres_type                  int64\n",
       "province_code                int64\n",
       "province_name                int64\n",
       "activity_index               int64\n",
       "household_gross_income     float64\n",
       "segmentation                 int64\n",
       "saving_account                int8\n",
       "guarantees                    int8\n",
       "current_accounts              int8\n",
       "derivada_account              int8\n",
       "payroll_account               int8\n",
       "junior_account                int8\n",
       "mas_particular_account        int8\n",
       "particular_account            int8\n",
       "particular_plus_account       int8\n",
       "short_term_deposit            int8\n",
       "medium_term_deposit           int8\n",
       "long_term_deposit             int8\n",
       "e_account                     int8\n",
       "funds                         int8\n",
       "mortgage                      int8\n",
       "pensions                      int8\n",
       "loans                         int8\n",
       "taxes                         int8\n",
       "credit_card                   int8\n",
       "securities                    int8\n",
       "home_account                  int8\n",
       "payroll                       int8\n",
       "pensions_2                    int8\n",
       "direct_debit                  int8\n",
       "dtype: object"
      ]
     },
     "execution_count": 11,
     "metadata": {},
     "output_type": "execute_result"
    }
   ],
   "source": [
    "train_df.dtypes"
   ]
  },
  {
   "cell_type": "code",
   "execution_count": 12,
   "id": "arctic-china",
   "metadata": {},
   "outputs": [],
   "source": [
    "date_cols = ['date', 'first_holder_date', 'primary_last_date', ]"
   ]
  },
  {
   "cell_type": "code",
   "execution_count": null,
   "id": "swedish-consistency",
   "metadata": {},
   "outputs": [],
   "source": []
  },
  {
   "cell_type": "code",
   "execution_count": 13,
   "id": "recovered-ordering",
   "metadata": {
    "scrolled": true
   },
   "outputs": [
    {
     "data": {
      "text/plain": [
       "array([' 35', ' 23', ' 22', ' 24', ' 65', ' 28', ' 25', ' 26', ' 53',\n",
       "       ' 27', ' 32', ' 37', ' 31', ' 39', ' 63', ' 33', ' 55', ' 42',\n",
       "       ' 58', ' 38', ' 50', ' 30', ' 45', ' 44', ' 36', ' 29', ' 60',\n",
       "       ' 57', ' 67', ' 47', ' NA', ' 34', ' 48', ' 46', ' 54', ' 84',\n",
       "       ' 15', ' 12', '  8', '  6', ' 83', ' 40', ' 77', ' 69', ' 52',\n",
       "       ' 59', ' 43', ' 10', '  9', ' 49', ' 41', ' 51', ' 78', ' 16',\n",
       "       ' 11', ' 73', ' 62', ' 66', ' 17', ' 68', ' 82', ' 95', ' 96',\n",
       "       ' 56', ' 61', ' 79', ' 72', ' 14', ' 19', ' 13', ' 86', ' 64',\n",
       "       ' 20', ' 89', ' 71', '  7', ' 70', ' 74', ' 21', ' 18', ' 75',\n",
       "       '  4', ' 80', ' 81', '  5', ' 76', ' 92', ' 93', ' 85', ' 91',\n",
       "       ' 87', ' 90', ' 94', ' 99', ' 98', ' 88', ' 97', '100', '101',\n",
       "       '106', '103', '  3', '  2', '102', '104', '111', '107', '109',\n",
       "       '105', '112', '115', '110', '116', '108', '113', '126', '117',\n",
       "       '163', '127', '114', '164'], dtype=object)"
      ]
     },
     "execution_count": 13,
     "metadata": {},
     "output_type": "execute_result"
    }
   ],
   "source": [
    "train_df['age'].unique()"
   ]
  },
  {
   "cell_type": "code",
   "execution_count": 14,
   "id": "social-projector",
   "metadata": {},
   "outputs": [
    {
     "data": {
      "text/plain": [
       "array([ 56,  36,  22,  51,  41,  33,  23,  43,  63,  62,  32,  58,  71,\n",
       "        31,  30,  59,  45,  37,  39,  38,  46,  34,  35,  42,  29,  88,\n",
       "        64,  48,  72,  47,  27,  24,  50,  49,  57,  67,  25,  28,  13,\n",
       "        40,  53,  54,  26,  11,  21,  60,  44,  55,   7,  52,  66,  90,\n",
       "        73,  78,  79,  61,  69,  12,   9,  65,  77,  83,  81,  10,   5,\n",
       "        18,  17,  87,  70,  80,  75,  68,  74,  16,   4,  82,  91,  76,\n",
       "        19,  15,   6,  97,  89,  85,  86,  14,  20,   8,  84,  95,  93,\n",
       "       100,  96,  92,  98,  94, 105, 102, 101, 104, 103,  99,   3,   2,\n",
       "       116, 106, 107, 109, 110, 117, 108, 113, 111, 112, 114, 164, 118,\n",
       "       127])"
      ]
     },
     "execution_count": 14,
     "metadata": {},
     "output_type": "execute_result"
    }
   ],
   "source": [
    "test_df['age'].unique()"
   ]
  },
  {
   "cell_type": "code",
   "execution_count": 15,
   "id": "nuclear-association",
   "metadata": {},
   "outputs": [],
   "source": [
    "train_df['age'].replace(' NA', np.nan, inplace=True)\n",
    "train_df['age'].fillna(-99, inplace=True)\n",
    "test_df['age'].replace(' NA', np.nan, inplace=True)\n",
    "test_df['age'].fillna(-99, inplace=True)\n"
   ]
  },
  {
   "cell_type": "code",
   "execution_count": 16,
   "id": "stunning-single",
   "metadata": {
    "scrolled": true
   },
   "outputs": [
    {
     "data": {
      "text/plain": [
       "array(['      6', '     35', '     34', '     NA', '     33', '     31',\n",
       "       '     21', '     16', '     27', '      9', '     22', '     13',\n",
       "       '     29', '      8', '     11', '     10', '     28', '     24',\n",
       "       '      7', '     25', '     14', '     26', '     12', '     23',\n",
       "       '      1', '     18', '      4', '      3', '     17', '     32',\n",
       "       '     30', '     20', '     15', '     19', '    157', '     36',\n",
       "       '      5', '     40', '     38', '     37', '     39', '      0',\n",
       "       '      2', '     47', '     44', '     42', '     46', '     45',\n",
       "       '     43', '     41', '     57', '     48', '     52', '     49',\n",
       "       '     50', '     56', '     58', '     51', '     55', '     54',\n",
       "       '     53', '     59', '     62', '     61', '     60', '     63',\n",
       "       '    139', '    165', '    118', '    164', '    142', '     94',\n",
       "       '    159', '    143', '    105', '    151', '    162', '    137',\n",
       "       '    150', '    128', '    122', '    156', '    119', '    160',\n",
       "       '     79', '     95', '    132', '    161', '     98', '    127',\n",
       "       '     72', '    155', '    108', '    163', '    102', '    148',\n",
       "       '    115', '    146', '    107', '     81', '    216', '    135',\n",
       "       '     92', '    121', '    198', '    134', '     93', '    140',\n",
       "       '    110', '    120', '    147', '    116', '     64', '     77',\n",
       "       '     85', '     99', '     78', '    100', '    113', '    154',\n",
       "       '    166', '    133', '    124', '    141', '     66', '    117',\n",
       "       '     86', '    193', '     80', '    144', '     87', '    126',\n",
       "       '    158', '    101', '    235', '     88', '    145', '    103',\n",
       "       '    149', '    109', '    131', '     97', '     68', '     84',\n",
       "       '    232', '    125', '    177', '    112', '     96', '     69',\n",
       "       '    171', '    167', '    104', '     76', '     82', '    152',\n",
       "       '     70', '    138', '    169', '     65', '    129', '    190',\n",
       "       '    114', '    111', '    176', '    153', '     89', '    136',\n",
       "       '     83', '    123', '    187', '    106', '    231', '    189',\n",
       "       '    217', '    172', '    199', '    173', '    174', '    209',\n",
       "       '    180', '    178', '     91', '    168', '    130', '    225',\n",
       "       '     67', '     73', '    183', '     74', '    206', '     71',\n",
       "       '    179', '    184', '    192', '     90', '    194', '    182',\n",
       "       '    188', '    213', '    185', '    195', '    186', '    207',\n",
       "       '    208', '     75', '    175', '    201', '    203', '    212',\n",
       "       '    215', '    170', '    228', '    214', '    202', '    196',\n",
       "       '    181', '    211', '    191', '    205', '    200', '    227',\n",
       "       '    218', '    219', '    226', '    224', '    210', '    242',\n",
       "       '    223', '    237', '    204', '    233', '    220', '    222',\n",
       "       '    241', '    197', '    221', '    229', '    234', '    240',\n",
       "       '    243', '    230', '    238', '    246', '    236', '    244',\n",
       "       '    239', '    245', '-999999', '    247', '    248', '    249',\n",
       "       '    250', '    251', '    252', '    253', '    254', '    255',\n",
       "       '    256'], dtype=object)"
      ]
     },
     "execution_count": 16,
     "metadata": {},
     "output_type": "execute_result"
    }
   ],
   "source": [
    "train_df['customer_seniority'].unique()"
   ]
  },
  {
   "cell_type": "code",
   "execution_count": 17,
   "id": "reduced-necessity",
   "metadata": {
    "scrolled": true
   },
   "outputs": [
    {
     "data": {
      "text/plain": [
       "array([    256,      34,      11,       5,      33,       4,      30,\n",
       "            32,      15,      18,      25,      23,      16,      26,\n",
       "            31,      13,      27,      29,      20,       8,       7,\n",
       "            24,      14,       3,       1,      10,      28,      22,\n",
       "            21,       2,      19,      17,      12,       9,       6,\n",
       "            37,      35,      36,      38,     150,      41,      40,\n",
       "            39,       0,      47,      48,      45,      42,      44,\n",
       "            46,      49,      43,      51,      50,      52,      55,\n",
       "            54,      53,      56,     186,     168,     128,     120,\n",
       "           220,      75,     172,     103,     159,     145,     135,\n",
       "           160,      93,     156,     157,     170,     148,     175,\n",
       "           176,     167,     104,     123,     133,     147,     112,\n",
       "            87,      99,     129,     171,     134,     144,     169,\n",
       "            72,     149,     106,     166,     113,     184,     139,\n",
       "           187,      62,     152,      81,     196,      78,     146,\n",
       "           161,     174,      96,      70,     109,     155,     131,\n",
       "           163,     143,      89,     158,     153,      73,      59,\n",
       "            65,     177,      95,     124,     132,      68,     138,\n",
       "           130,      98,      84,     122,      74,     141,     100,\n",
       "           115,     164,     204,      64,     136,     119,      88,\n",
       "           121,     117,     118,     127,     125,     165,      67,\n",
       "            97,      58,     111,     173,      77,     162,      63,\n",
       "           202,      94,     137,     110,     194,     154,     102,\n",
       "           199,     116,     140,     114,     105,     244,     195,\n",
       "           151,      86,      69,      76,     126,      90,     107,\n",
       "           142,      82,     108,      92,      79,      91,     233,\n",
       "           101,      83,     215,     217,     248,      80,     207,\n",
       "           188,      60,      66,     179,     185,     224,      57,\n",
       "           190,      61,     180,     206,     212,     197,      71,\n",
       "           246,     221,     183,     210,     219,     198,      85,\n",
       "           229,     231,     181,     213,     200,     228,     237,\n",
       "           192,     205,     230,     178,     209,     191,     189,\n",
       "           182,     218,     203,     236,     227,     201,     243,\n",
       "           216,     211,     241,     226,     193,     242,     214,\n",
       "           223,     235,     240,     238,     225,     234,     253,\n",
       "           252,     208,     222,     232,     249,     239,     247,\n",
       "           257,     251,     245,     254,     255,     250, -999999])"
      ]
     },
     "execution_count": 17,
     "metadata": {},
     "output_type": "execute_result"
    }
   ],
   "source": [
    "test_df['customer_seniority'].unique()"
   ]
  },
  {
   "cell_type": "code",
   "execution_count": 18,
   "id": "governing-sequence",
   "metadata": {},
   "outputs": [],
   "source": [
    "train_df['customer_seniority'].replace('     NA', np.nan, inplace=True)\n",
    "train_df['customer_seniority'].replace(-999999, np.nan, inplace=True)\n",
    "train_df['customer_seniority'].fillna(-99, inplace=True)\n",
    "test_df['customer_seniority'].replace('     NA', np.nan, inplace=True)\n",
    "train_df['customer_seniority'].replace(-999999, np.nan, inplace=True)\n",
    "test_df['customer_seniority'].fillna(-99, inplace=True)\n"
   ]
  },
  {
   "cell_type": "code",
   "execution_count": 19,
   "id": "excellent-blast",
   "metadata": {},
   "outputs": [
    {
     "data": {
      "text/plain": [
       "array(['      6', '     35', '     34', -99, '     33', '     31',\n",
       "       '     21', '     16', '     27', '      9', '     22', '     13',\n",
       "       '     29', '      8', '     11', '     10', '     28', '     24',\n",
       "       '      7', '     25', '     14', '     26', '     12', '     23',\n",
       "       '      1', '     18', '      4', '      3', '     17', '     32',\n",
       "       '     30', '     20', '     15', '     19', '    157', '     36',\n",
       "       '      5', '     40', '     38', '     37', '     39', '      0',\n",
       "       '      2', '     47', '     44', '     42', '     46', '     45',\n",
       "       '     43', '     41', '     57', '     48', '     52', '     49',\n",
       "       '     50', '     56', '     58', '     51', '     55', '     54',\n",
       "       '     53', '     59', '     62', '     61', '     60', '     63',\n",
       "       '    139', '    165', '    118', '    164', '    142', '     94',\n",
       "       '    159', '    143', '    105', '    151', '    162', '    137',\n",
       "       '    150', '    128', '    122', '    156', '    119', '    160',\n",
       "       '     79', '     95', '    132', '    161', '     98', '    127',\n",
       "       '     72', '    155', '    108', '    163', '    102', '    148',\n",
       "       '    115', '    146', '    107', '     81', '    216', '    135',\n",
       "       '     92', '    121', '    198', '    134', '     93', '    140',\n",
       "       '    110', '    120', '    147', '    116', '     64', '     77',\n",
       "       '     85', '     99', '     78', '    100', '    113', '    154',\n",
       "       '    166', '    133', '    124', '    141', '     66', '    117',\n",
       "       '     86', '    193', '     80', '    144', '     87', '    126',\n",
       "       '    158', '    101', '    235', '     88', '    145', '    103',\n",
       "       '    149', '    109', '    131', '     97', '     68', '     84',\n",
       "       '    232', '    125', '    177', '    112', '     96', '     69',\n",
       "       '    171', '    167', '    104', '     76', '     82', '    152',\n",
       "       '     70', '    138', '    169', '     65', '    129', '    190',\n",
       "       '    114', '    111', '    176', '    153', '     89', '    136',\n",
       "       '     83', '    123', '    187', '    106', '    231', '    189',\n",
       "       '    217', '    172', '    199', '    173', '    174', '    209',\n",
       "       '    180', '    178', '     91', '    168', '    130', '    225',\n",
       "       '     67', '     73', '    183', '     74', '    206', '     71',\n",
       "       '    179', '    184', '    192', '     90', '    194', '    182',\n",
       "       '    188', '    213', '    185', '    195', '    186', '    207',\n",
       "       '    208', '     75', '    175', '    201', '    203', '    212',\n",
       "       '    215', '    170', '    228', '    214', '    202', '    196',\n",
       "       '    181', '    211', '    191', '    205', '    200', '    227',\n",
       "       '    218', '    219', '    226', '    224', '    210', '    242',\n",
       "       '    223', '    237', '    204', '    233', '    220', '    222',\n",
       "       '    241', '    197', '    221', '    229', '    234', '    240',\n",
       "       '    243', '    230', '    238', '    246', '    236', '    244',\n",
       "       '    239', '    245', '-999999', '    247', '    248', '    249',\n",
       "       '    250', '    251', '    252', '    253', '    254', '    255',\n",
       "       '    256'], dtype=object)"
      ]
     },
     "execution_count": 19,
     "metadata": {},
     "output_type": "execute_result"
    }
   ],
   "source": [
    "train_df['customer_seniority'].unique()"
   ]
  },
  {
   "cell_type": "code",
   "execution_count": 20,
   "id": "pending-termination",
   "metadata": {},
   "outputs": [
    {
     "data": {
      "text/plain": [
       "array([    256,      34,      11,       5,      33,       4,      30,\n",
       "            32,      15,      18,      25,      23,      16,      26,\n",
       "            31,      13,      27,      29,      20,       8,       7,\n",
       "            24,      14,       3,       1,      10,      28,      22,\n",
       "            21,       2,      19,      17,      12,       9,       6,\n",
       "            37,      35,      36,      38,     150,      41,      40,\n",
       "            39,       0,      47,      48,      45,      42,      44,\n",
       "            46,      49,      43,      51,      50,      52,      55,\n",
       "            54,      53,      56,     186,     168,     128,     120,\n",
       "           220,      75,     172,     103,     159,     145,     135,\n",
       "           160,      93,     156,     157,     170,     148,     175,\n",
       "           176,     167,     104,     123,     133,     147,     112,\n",
       "            87,      99,     129,     171,     134,     144,     169,\n",
       "            72,     149,     106,     166,     113,     184,     139,\n",
       "           187,      62,     152,      81,     196,      78,     146,\n",
       "           161,     174,      96,      70,     109,     155,     131,\n",
       "           163,     143,      89,     158,     153,      73,      59,\n",
       "            65,     177,      95,     124,     132,      68,     138,\n",
       "           130,      98,      84,     122,      74,     141,     100,\n",
       "           115,     164,     204,      64,     136,     119,      88,\n",
       "           121,     117,     118,     127,     125,     165,      67,\n",
       "            97,      58,     111,     173,      77,     162,      63,\n",
       "           202,      94,     137,     110,     194,     154,     102,\n",
       "           199,     116,     140,     114,     105,     244,     195,\n",
       "           151,      86,      69,      76,     126,      90,     107,\n",
       "           142,      82,     108,      92,      79,      91,     233,\n",
       "           101,      83,     215,     217,     248,      80,     207,\n",
       "           188,      60,      66,     179,     185,     224,      57,\n",
       "           190,      61,     180,     206,     212,     197,      71,\n",
       "           246,     221,     183,     210,     219,     198,      85,\n",
       "           229,     231,     181,     213,     200,     228,     237,\n",
       "           192,     205,     230,     178,     209,     191,     189,\n",
       "           182,     218,     203,     236,     227,     201,     243,\n",
       "           216,     211,     241,     226,     193,     242,     214,\n",
       "           223,     235,     240,     238,     225,     234,     253,\n",
       "           252,     208,     222,     232,     249,     239,     247,\n",
       "           257,     251,     245,     254,     255,     250, -999999])"
      ]
     },
     "execution_count": 20,
     "metadata": {},
     "output_type": "execute_result"
    }
   ],
   "source": [
    "test_df['customer_seniority'].unique()"
   ]
  },
  {
   "cell_type": "code",
   "execution_count": null,
   "id": "smart-proportion",
   "metadata": {},
   "outputs": [],
   "source": []
  },
  {
   "cell_type": "code",
   "execution_count": null,
   "id": "identified-lounge",
   "metadata": {},
   "outputs": [],
   "source": []
  },
  {
   "cell_type": "code",
   "execution_count": 21,
   "id": "arabic-pollution",
   "metadata": {},
   "outputs": [
    {
     "data": {
      "text/plain": [
       "array(['2015-01-28', '2015-02-28', '2015-03-28', '2015-04-28',\n",
       "       '2015-05-28', '2015-06-28', '2015-07-28', '2015-08-28',\n",
       "       '2015-09-28', '2015-10-28', '2015-11-28', '2015-12-28',\n",
       "       '2016-01-28', '2016-02-28', '2016-03-28', '2016-04-28',\n",
       "       '2016-05-28'], dtype=object)"
      ]
     },
     "execution_count": 21,
     "metadata": {},
     "output_type": "execute_result"
    }
   ],
   "source": [
    "train_df['date'].unique()"
   ]
  },
  {
   "cell_type": "code",
   "execution_count": 22,
   "id": "external-characterization",
   "metadata": {},
   "outputs": [
    {
     "data": {
      "text/plain": [
       "array(['2015-01-12', '2012-08-10', nan, ..., '2016-05-25', '2016-05-01',\n",
       "       '2016-05-15'], dtype=object)"
      ]
     },
     "execution_count": 22,
     "metadata": {},
     "output_type": "execute_result"
    }
   ],
   "source": [
    "train_df['first_holder_date'].unique()"
   ]
  },
  {
   "cell_type": "code",
   "execution_count": 23,
   "id": "missing-limitation",
   "metadata": {
    "scrolled": true
   },
   "outputs": [
    {
     "data": {
      "text/plain": [
       "array([nan, '2015-07-02', '2015-07-23', '2015-07-06', '2015-07-30',\n",
       "       '2015-07-20', '2015-07-08', '2015-07-22', '2015-07-17',\n",
       "       '2015-07-09', '2015-07-03', '2015-07-29', '2015-07-13',\n",
       "       '2015-07-21', '2015-07-27', '2015-07-14', '2015-07-01',\n",
       "       '2015-07-24', '2015-07-15', '2015-07-16', '2015-07-28',\n",
       "       '2015-07-07', '2015-07-10', '2015-08-21', '2015-08-19',\n",
       "       '2015-08-25', '2015-08-14', '2015-08-24', '2015-08-17',\n",
       "       '2015-08-18', '2015-08-10', '2015-08-13', '2015-08-27',\n",
       "       '2015-08-03', '2015-08-06', '2015-08-20', '2015-08-26',\n",
       "       '2015-08-28', '2015-08-05', '2015-08-11', '2015-08-07',\n",
       "       '2015-08-04', '2015-08-12', '2015-09-17', '2015-09-01',\n",
       "       '2015-09-18', '2015-09-03', '2015-09-02', '2015-09-14',\n",
       "       '2015-09-16', '2015-09-29', '2015-09-28', '2015-09-09',\n",
       "       '2015-09-22', '2015-09-08', '2015-09-11', '2015-09-21',\n",
       "       '2015-09-04', '2015-09-25', '2015-09-07', '2015-09-10',\n",
       "       '2015-09-23', '2015-09-24', '2015-09-15', '2015-10-08',\n",
       "       '2015-10-07', '2015-10-13', '2015-10-26', '2015-10-29',\n",
       "       '2015-10-05', '2015-10-28', '2015-10-09', '2015-10-22',\n",
       "       '2015-10-20', '2015-10-15', '2015-10-06', '2015-10-01',\n",
       "       '2015-10-21', '2015-10-16', '2015-10-27', '2015-10-19',\n",
       "       '2015-10-23', '2015-10-02', '2015-10-14', '2015-11-23',\n",
       "       '2015-11-24', '2015-11-12', '2015-11-04', '2015-11-13',\n",
       "       '2015-11-25', '2015-11-19', '2015-11-20', '2015-11-03',\n",
       "       '2015-11-16', '2015-11-17', '2015-11-11', '2015-11-27',\n",
       "       '2015-11-18', '2015-11-10', '2015-11-26', '2015-11-02',\n",
       "       '2015-11-05', '2015-11-06', '2015-11-09', '2015-12-21',\n",
       "       '2015-12-18', '2015-12-28', '2015-12-24', '2015-12-04',\n",
       "       '2015-12-29', '2015-12-16', '2015-12-11', '2015-12-30',\n",
       "       '2015-12-15', '2015-12-01', '2015-12-09', '2015-12-10',\n",
       "       '2015-12-17', '2015-12-02', '2015-12-14', '2015-12-03',\n",
       "       '2015-12-22', '2015-12-23', '2015-12-07', '2016-01-08',\n",
       "       '2016-01-14', '2016-01-13', '2016-01-28', '2016-01-05',\n",
       "       '2016-01-19', '2016-01-12', '2016-01-18', '2016-01-21',\n",
       "       '2016-01-22', '2016-01-07', '2016-01-20', '2016-01-26',\n",
       "       '2016-01-15', '2016-01-27', '2016-01-25', '2016-01-11',\n",
       "       '2016-01-04', '2016-02-23', '2016-02-19', '2016-02-18',\n",
       "       '2016-02-26', '2016-02-12', '2016-02-24', '2016-02-09',\n",
       "       '2016-02-08', '2016-02-11', '2016-02-05', '2016-02-04',\n",
       "       '2016-02-03', '2016-02-15', '2016-02-22', '2016-02-10',\n",
       "       '2016-02-16', '2016-02-01', '2016-02-17', '2016-02-02',\n",
       "       '2016-02-25', '2016-03-07', '2016-03-29', '2016-03-10',\n",
       "       '2016-03-18', '2016-03-14', '2016-03-22', '2016-03-08',\n",
       "       '2016-03-21', '2016-03-30', '2016-03-01', '2016-03-23',\n",
       "       '2016-03-02', '2016-03-24', '2016-03-03', '2016-03-09',\n",
       "       '2016-03-11', '2016-03-04', '2016-03-16', '2016-03-28',\n",
       "       '2016-03-15', '2016-03-17', '2016-04-22', '2016-04-01',\n",
       "       '2016-04-06', '2016-04-12', '2016-04-05', '2016-04-15',\n",
       "       '2016-04-13', '2016-04-19', '2016-04-04', '2016-04-18',\n",
       "       '2016-04-26', '2016-04-11', '2016-04-25', '2016-04-27',\n",
       "       '2016-04-08', '2016-04-07', '2016-04-21', '2016-04-28',\n",
       "       '2016-04-20', '2016-04-14', '2016-05-23', '2016-05-05',\n",
       "       '2016-05-17', '2016-05-19', '2016-05-12', '2016-05-06',\n",
       "       '2016-05-03', '2016-05-20', '2016-05-02', '2016-05-16',\n",
       "       '2016-05-18', '2016-05-04', '2016-05-13', '2016-05-24',\n",
       "       '2016-05-27', '2016-05-10', '2016-05-30', '2016-05-25',\n",
       "       '2016-05-11', '2016-05-09', '2016-05-26'], dtype=object)"
      ]
     },
     "execution_count": 23,
     "metadata": {},
     "output_type": "execute_result"
    }
   ],
   "source": [
    "train_df['primary_last_date'].unique()"
   ]
  },
  {
   "cell_type": "code",
   "execution_count": null,
   "id": "forward-brother",
   "metadata": {},
   "outputs": [],
   "source": []
  },
  {
   "cell_type": "code",
   "execution_count": 26,
   "id": "hungry-running",
   "metadata": {},
   "outputs": [],
   "source": [
    "index_before_conversion= train_df['first_holder_date'].isnull()"
   ]
  },
  {
   "cell_type": "code",
   "execution_count": 33,
   "id": "royal-asbestos",
   "metadata": {},
   "outputs": [
    {
     "data": {
      "text/plain": [
       "261        NaN\n",
       "1029       NaN\n",
       "1063       NaN\n",
       "1154       NaN\n",
       "1779       NaN\n",
       "          ... \n",
       "3775976    NaN\n",
       "3776175    NaN\n",
       "3776230    NaN\n",
       "3776279    NaN\n",
       "3776332    NaN\n",
       "Name: first_holder_date, Length: 27734, dtype: object"
      ]
     },
     "execution_count": 33,
     "metadata": {},
     "output_type": "execute_result"
    }
   ],
   "source": [
    "train_df['first_holder_date'][index_before_conversion]"
   ]
  },
  {
   "cell_type": "code",
   "execution_count": null,
   "id": "appointed-brazilian",
   "metadata": {},
   "outputs": [],
   "source": []
  },
  {
   "cell_type": "code",
   "execution_count": 34,
   "id": "wooden-hopkins",
   "metadata": {},
   "outputs": [],
   "source": [
    "for col in date_cols:\n",
    "    #train_df[col].fillna(-99, inplace=True)\n",
    "    #test_df[col].fillna(-99, inplace=True)\n",
    "    train_df[col] = pd.to_datetime(train_df['date'], format='%Y-%m-%d')\n",
    "    test_df[col] = pd.to_datetime(train_df['date'], format='%Y-%m-%d')\n"
   ]
  },
  {
   "cell_type": "code",
   "execution_count": 35,
   "id": "overall-december",
   "metadata": {},
   "outputs": [
    {
     "data": {
      "text/plain": [
       "261       2015-01-28\n",
       "1029      2015-01-28\n",
       "1063      2015-01-28\n",
       "1154      2015-01-28\n",
       "1779      2015-01-28\n",
       "             ...    \n",
       "3775976   2015-06-28\n",
       "3776175   2015-06-28\n",
       "3776230   2015-06-28\n",
       "3776279   2015-06-28\n",
       "3776332   2015-06-28\n",
       "Name: first_holder_date, Length: 27734, dtype: datetime64[ns]"
      ]
     },
     "execution_count": 35,
     "metadata": {},
     "output_type": "execute_result"
    }
   ],
   "source": [
    "train_df['first_holder_date'][index_before_conversion]"
   ]
  },
  {
   "cell_type": "code",
   "execution_count": null,
   "id": "durable-avenue",
   "metadata": {},
   "outputs": [],
   "source": []
  },
  {
   "cell_type": "code",
   "execution_count": 36,
   "id": "transsexual-spyware",
   "metadata": {},
   "outputs": [
    {
     "data": {
      "text/plain": [
       "array(['2015-01-28T00:00:00.000000000', '2015-02-28T00:00:00.000000000',\n",
       "       '2015-03-28T00:00:00.000000000', '2015-04-28T00:00:00.000000000',\n",
       "       '2015-05-28T00:00:00.000000000', '2015-06-28T00:00:00.000000000',\n",
       "       '2015-07-28T00:00:00.000000000', '2015-08-28T00:00:00.000000000',\n",
       "       '2015-09-28T00:00:00.000000000', '2015-10-28T00:00:00.000000000',\n",
       "       '2015-11-28T00:00:00.000000000', '2015-12-28T00:00:00.000000000',\n",
       "       '2016-01-28T00:00:00.000000000', '2016-02-28T00:00:00.000000000',\n",
       "       '2016-03-28T00:00:00.000000000', '2016-04-28T00:00:00.000000000',\n",
       "       '2016-05-28T00:00:00.000000000'], dtype='datetime64[ns]')"
      ]
     },
     "execution_count": 36,
     "metadata": {},
     "output_type": "execute_result"
    }
   ],
   "source": [
    "train_df['date'].unique()"
   ]
  },
  {
   "cell_type": "code",
   "execution_count": 37,
   "id": "correct-engineer",
   "metadata": {},
   "outputs": [
    {
     "data": {
      "text/plain": [
       "array(['2015-01-28T00:00:00.000000000', '2015-02-28T00:00:00.000000000',\n",
       "       '2015-03-28T00:00:00.000000000', '2015-04-28T00:00:00.000000000',\n",
       "       '2015-05-28T00:00:00.000000000', '2015-06-28T00:00:00.000000000',\n",
       "       '2015-07-28T00:00:00.000000000', '2015-08-28T00:00:00.000000000',\n",
       "       '2015-09-28T00:00:00.000000000', '2015-10-28T00:00:00.000000000',\n",
       "       '2015-11-28T00:00:00.000000000', '2015-12-28T00:00:00.000000000',\n",
       "       '2016-01-28T00:00:00.000000000', '2016-02-28T00:00:00.000000000',\n",
       "       '2016-03-28T00:00:00.000000000', '2016-04-28T00:00:00.000000000',\n",
       "       '2016-05-28T00:00:00.000000000'], dtype='datetime64[ns]')"
      ]
     },
     "execution_count": 37,
     "metadata": {},
     "output_type": "execute_result"
    }
   ],
   "source": [
    "train_df['first_holder_date'].unique()"
   ]
  },
  {
   "cell_type": "code",
   "execution_count": 38,
   "id": "twelve-brooks",
   "metadata": {},
   "outputs": [
    {
     "data": {
      "text/plain": [
       "array(['2015-01-28T00:00:00.000000000', '2015-02-28T00:00:00.000000000',\n",
       "       '2015-03-28T00:00:00.000000000', '2015-04-28T00:00:00.000000000',\n",
       "       '2015-05-28T00:00:00.000000000', '2015-06-28T00:00:00.000000000',\n",
       "       '2015-07-28T00:00:00.000000000', '2015-08-28T00:00:00.000000000',\n",
       "       '2015-09-28T00:00:00.000000000', '2015-10-28T00:00:00.000000000',\n",
       "       '2015-11-28T00:00:00.000000000', '2015-12-28T00:00:00.000000000',\n",
       "       '2016-01-28T00:00:00.000000000', '2016-02-28T00:00:00.000000000',\n",
       "       '2016-03-28T00:00:00.000000000', '2016-04-28T00:00:00.000000000',\n",
       "       '2016-05-28T00:00:00.000000000'], dtype='datetime64[ns]')"
      ]
     },
     "execution_count": 38,
     "metadata": {},
     "output_type": "execute_result"
    }
   ],
   "source": [
    "train_df['primary_last_date'].unique()"
   ]
  },
  {
   "cell_type": "code",
   "execution_count": null,
   "id": "protected-wireless",
   "metadata": {},
   "outputs": [],
   "source": []
  },
  {
   "cell_type": "code",
   "execution_count": 39,
   "id": "bulgarian-little",
   "metadata": {},
   "outputs": [
    {
     "data": {
      "text/plain": [
       "array(['2015-01-28T00:00:00.000000000', '2015-02-28T00:00:00.000000000',\n",
       "       '2015-03-28T00:00:00.000000000', '2015-04-28T00:00:00.000000000',\n",
       "       '2015-05-28T00:00:00.000000000', '2015-06-28T00:00:00.000000000',\n",
       "       '2015-07-28T00:00:00.000000000', '2015-08-28T00:00:00.000000000',\n",
       "       '2015-09-28T00:00:00.000000000', '2015-10-28T00:00:00.000000000',\n",
       "       '2015-11-28T00:00:00.000000000', '2015-12-28T00:00:00.000000000',\n",
       "       '2016-01-28T00:00:00.000000000', '2016-02-28T00:00:00.000000000',\n",
       "       '2016-03-28T00:00:00.000000000', '2016-04-28T00:00:00.000000000',\n",
       "       '2016-05-28T00:00:00.000000000'], dtype='datetime64[ns]')"
      ]
     },
     "execution_count": 39,
     "metadata": {},
     "output_type": "execute_result"
    }
   ],
   "source": [
    "train_df['first_holder_date'].unique()"
   ]
  },
  {
   "cell_type": "code",
   "execution_count": 40,
   "id": "massive-butter",
   "metadata": {
    "scrolled": true
   },
   "outputs": [
    {
     "data": {
      "text/plain": [
       "date                       datetime64[ns]\n",
       "customer_code                       int64\n",
       "employee_index                      int64\n",
       "country                             int64\n",
       "sex                                 int64\n",
       "age                                object\n",
       "first_holder_date          datetime64[ns]\n",
       "new_customer_index                  int64\n",
       "customer_seniority                 object\n",
       "primary_index                       int64\n",
       "primary_last_date          datetime64[ns]\n",
       "customer_type                       int64\n",
       "customer_relation_type              int64\n",
       "residence_index                     int64\n",
       "foreigner_index                     int64\n",
       "spouse_index                        int64\n",
       "channel                             int64\n",
       "deceased_index                      int64\n",
       "addres_type                         int64\n",
       "province_code                       int64\n",
       "province_name                       int64\n",
       "activity_index                      int64\n",
       "household_gross_income            float64\n",
       "segmentation                        int64\n",
       "saving_account                       int8\n",
       "guarantees                           int8\n",
       "current_accounts                     int8\n",
       "derivada_account                     int8\n",
       "payroll_account                      int8\n",
       "junior_account                       int8\n",
       "mas_particular_account               int8\n",
       "particular_account                   int8\n",
       "particular_plus_account              int8\n",
       "short_term_deposit                   int8\n",
       "medium_term_deposit                  int8\n",
       "long_term_deposit                    int8\n",
       "e_account                            int8\n",
       "funds                                int8\n",
       "mortgage                             int8\n",
       "pensions                             int8\n",
       "loans                                int8\n",
       "taxes                                int8\n",
       "credit_card                          int8\n",
       "securities                           int8\n",
       "home_account                         int8\n",
       "payroll                              int8\n",
       "pensions_2                           int8\n",
       "direct_debit                         int8\n",
       "dtype: object"
      ]
     },
     "execution_count": 40,
     "metadata": {},
     "output_type": "execute_result"
    }
   ],
   "source": [
    "train_df.dtypes"
   ]
  },
  {
   "cell_type": "code",
   "execution_count": 41,
   "id": "dietary-nebraska",
   "metadata": {},
   "outputs": [],
   "source": [
    "train_df.to_csv(\"./train_ver2_en.csv\", index=False)\n",
    "test_df.to_csv(\"./test_ver2_en.csv\", index=False)"
   ]
  },
  {
   "cell_type": "code",
   "execution_count": 42,
   "id": "secondary-syracuse",
   "metadata": {},
   "outputs": [
    {
     "name": "stdout",
     "output_type": "stream",
     "text": [
      "/Users/tamurataito/Documents/santander_dir\r\n"
     ]
    }
   ],
   "source": [
    "!pwd"
   ]
  },
  {
   "cell_type": "code",
   "execution_count": null,
   "id": "induced-survivor",
   "metadata": {},
   "outputs": [],
   "source": [
    "/Users/tamurataito/Documents/santander_dir/train_ver2_en.csv"
   ]
  }
 ],
 "metadata": {
  "kernelspec": {
   "display_name": "Python 3 (ipykernel)",
   "language": "python",
   "name": "python3"
  },
  "language_info": {
   "codemirror_mode": {
    "name": "ipython",
    "version": 3
   },
   "file_extension": ".py",
   "mimetype": "text/x-python",
   "name": "python",
   "nbconvert_exporter": "python",
   "pygments_lexer": "ipython3",
   "version": "3.8.13"
  }
 },
 "nbformat": 4,
 "nbformat_minor": 5
}
